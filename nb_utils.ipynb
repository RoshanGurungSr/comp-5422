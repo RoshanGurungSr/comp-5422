{
 "cells": [
  {
   "cell_type": "code",
   "execution_count": 1,
   "id": "c3c40d45-dde6-4030-b0ea-5e140e9bdf18",
   "metadata": {},
   "outputs": [],
   "source": [
    "import os\n",
    "from os import walk\n",
    "\n",
    "import pandas as pd\n",
    "from sklearn.model_selection import train_test_split"
   ]
  },
  {
   "cell_type": "code",
   "execution_count": 2,
   "id": "e4897e0f-8420-4339-9e5e-4770346be105",
   "metadata": {
    "tags": []
   },
   "outputs": [],
   "source": [
    "current_dir = os.path.abspath(os.getcwd())\n",
    "data_path = \"dataset/\"\n",
    "data_mapping = []\n",
    "\n",
    "for (dirpath, dirnames, filenames) in walk(data_path):\n",
    "    if filenames:\n",
    "        label_name = dirpath.split(\"/\")[-1]\n",
    "        data_full_fp = [os.path.join(current_dir, dirpath, fname) for fname in filenames]\n",
    "        \n",
    "        for data_fp in data_full_fp:\n",
    "            data_mapping.append([data_fp, label_name])"
   ]
  },
  {
   "cell_type": "code",
   "execution_count": 3,
   "id": "d9f91961-3309-4583-81d8-fc33a0b24425",
   "metadata": {
    "tags": []
   },
   "outputs": [
    {
     "data": {
      "text/html": [
       "<div>\n",
       "<style scoped>\n",
       "    .dataframe tbody tr th:only-of-type {\n",
       "        vertical-align: middle;\n",
       "    }\n",
       "\n",
       "    .dataframe tbody tr th {\n",
       "        vertical-align: top;\n",
       "    }\n",
       "\n",
       "    .dataframe thead th {\n",
       "        text-align: right;\n",
       "    }\n",
       "</style>\n",
       "<table border=\"1\" class=\"dataframe\">\n",
       "  <thead>\n",
       "    <tr style=\"text-align: right;\">\n",
       "      <th></th>\n",
       "      <th>filename</th>\n",
       "      <th>label</th>\n",
       "    </tr>\n",
       "  </thead>\n",
       "  <tbody>\n",
       "    <tr>\n",
       "      <th>0</th>\n",
       "      <td>/home/sasmi/Desktop/Lakehead University/COMP-5...</td>\n",
       "      <td>chain_saw</td>\n",
       "    </tr>\n",
       "    <tr>\n",
       "      <th>1</th>\n",
       "      <td>/home/sasmi/Desktop/Lakehead University/COMP-5...</td>\n",
       "      <td>chain_saw</td>\n",
       "    </tr>\n",
       "    <tr>\n",
       "      <th>2</th>\n",
       "      <td>/home/sasmi/Desktop/Lakehead University/COMP-5...</td>\n",
       "      <td>chain_saw</td>\n",
       "    </tr>\n",
       "    <tr>\n",
       "      <th>3</th>\n",
       "      <td>/home/sasmi/Desktop/Lakehead University/COMP-5...</td>\n",
       "      <td>chain_saw</td>\n",
       "    </tr>\n",
       "    <tr>\n",
       "      <th>4</th>\n",
       "      <td>/home/sasmi/Desktop/Lakehead University/COMP-5...</td>\n",
       "      <td>chain_saw</td>\n",
       "    </tr>\n",
       "  </tbody>\n",
       "</table>\n",
       "</div>"
      ],
      "text/plain": [
       "                                            filename      label\n",
       "0  /home/sasmi/Desktop/Lakehead University/COMP-5...  chain_saw\n",
       "1  /home/sasmi/Desktop/Lakehead University/COMP-5...  chain_saw\n",
       "2  /home/sasmi/Desktop/Lakehead University/COMP-5...  chain_saw\n",
       "3  /home/sasmi/Desktop/Lakehead University/COMP-5...  chain_saw\n",
       "4  /home/sasmi/Desktop/Lakehead University/COMP-5...  chain_saw"
      ]
     },
     "execution_count": 3,
     "metadata": {},
     "output_type": "execute_result"
    }
   ],
   "source": [
    "data_df = pd.DataFrame(data_mapping, columns=[\"filename\", \"label\"])\n",
    "data_df.head()"
   ]
  },
  {
   "cell_type": "code",
   "execution_count": 4,
   "id": "c25ec4f4-7aaa-48fe-b275-55d0fb15f118",
   "metadata": {
    "tags": []
   },
   "outputs": [],
   "source": [
    "labels_map = {\n",
    "    'cassette_player': 0,\n",
    "    'chain_saw': 1,\n",
    "    'church': 2,\n",
    "    'english_springer': 3,\n",
    "    'french_horn': 4,\n",
    "    'garbage_truck': 5,\n",
    "    'gas_pump': 6,\n",
    "    'golf_ball': 7,\n",
    "    'parachute': 8,\n",
    "    'tench': 9\n",
    "}"
   ]
  },
  {
   "cell_type": "code",
   "execution_count": 5,
   "id": "cb486e55-e94f-4713-8b1b-243a79a3bbb9",
   "metadata": {
    "tags": []
   },
   "outputs": [
    {
     "name": "stdout",
     "output_type": "stream",
     "text": [
      "(10720, 2)\n",
      "(2680, 2)\n"
     ]
    }
   ],
   "source": [
    "train, test = train_test_split(data_df, \n",
    "                               test_size=0.2, \n",
    "                               stratify=data_df[\"label\"], \n",
    "                               random_state=42)\n",
    "print(train.shape)\n",
    "print(test.shape)"
   ]
  },
  {
   "cell_type": "code",
   "execution_count": 6,
   "id": "15a15919-4f40-42a2-9e0b-a438156f46ce",
   "metadata": {
    "tags": []
   },
   "outputs": [],
   "source": [
    "train.to_csv(\"train.csv\", index=False)\n",
    "test.to_csv(\"test.csv\", index=False)"
   ]
  },
  {
   "cell_type": "code",
   "execution_count": null,
   "id": "2ebbf0d0-e11e-4fd8-b999-0117c10b4f3e",
   "metadata": {},
   "outputs": [],
   "source": []
  }
 ],
 "metadata": {
  "kernelspec": {
   "display_name": "jarvis",
   "language": "python",
   "name": "jarvis"
  },
  "language_info": {
   "codemirror_mode": {
    "name": "ipython",
    "version": 3
   },
   "file_extension": ".py",
   "mimetype": "text/x-python",
   "name": "python",
   "nbconvert_exporter": "python",
   "pygments_lexer": "ipython3",
   "version": "3.10.13"
  }
 },
 "nbformat": 4,
 "nbformat_minor": 5
}
